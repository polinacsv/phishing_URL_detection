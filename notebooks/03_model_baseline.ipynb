{
 "cells": [
  {
   "cell_type": "markdown",
   "id": "70b899a2",
   "metadata": {},
   "source": [
    "# Modeling Baseline Pipeline for Phishing URL Detection\n",
    "\n",
    "In this notebook, we build a full modeling pipeline for detecting phishing URLs.  \n",
    "We start with a dataset that contains two columns: a **URL** and a **label** indicating whether the URL is **benign** or **phishing**.\n",
    "\n",
    "While we use a well-known research dataset for this example (PhishStorm), **any dataset with labeled URLs** can be used — because **all features in this pipeline will be created from scratch** using custom Python functions.\n",
    "\n",
    "PhishTank dataset is our addditioonal dataset. It has 50K additional phishing links. \n",
    "\n",
    "📘 **Datasets citation**:  \n",
    "\n",
    "> [1] S. Marchal, J. Francois, R. State, and T. Engel.  \n",
    "> *PhishStorm: Detecting Phishing with Streaming Analytics*.  \n",
    "> IEEE Transactions on Network and Service Management (TNSM), 11(4):458–471, 2014.\n",
    "\n",
    "> PhishTank: https://phishtank.org/developer_info.php (dowloaded on Oct 4th 2025, the dataset is updated every day but we will use Oct 4th version)\n",
    "\n",
    "> Alexa 1 million TOP popular domains: https://www.kaggle.com/datasets/nayjest/alexa-domains-1m/data?select=alexa_domains_1M.txt"
   ]
  },
  {
   "cell_type": "markdown",
   "id": "38654e25",
   "metadata": {},
   "source": [
    "## Set up"
   ]
  },
  {
   "cell_type": "code",
   "execution_count": 23,
   "id": "36de9a0b",
   "metadata": {},
   "outputs": [
    {
     "name": "stdout",
     "output_type": "stream",
     "text": [
      "/Users/polinacsv/Documents/github_clones/phishing_URL_detection/.venv/bin/python\n"
     ]
    }
   ],
   "source": [
    "# Confirm we are in the correct venv\n",
    "import sys\n",
    "print(sys.executable)"
   ]
  },
  {
   "cell_type": "code",
   "execution_count": 1,
   "id": "fc414a04",
   "metadata": {},
   "outputs": [],
   "source": [
    "# Load libraries\n",
    "from phishing_URL_detection.load_data import load_phishing_data, load_alexa_domains\n",
    "import pandas as pd "
   ]
  },
  {
   "cell_type": "markdown",
   "id": "150a6886",
   "metadata": {},
   "source": [
    "# Load Data"
   ]
  },
  {
   "cell_type": "code",
   "execution_count": 25,
   "id": "09c5e03c",
   "metadata": {},
   "outputs": [
    {
     "data": {
      "text/html": [
       "<div>\n",
       "<style scoped>\n",
       "    .dataframe tbody tr th:only-of-type {\n",
       "        vertical-align: middle;\n",
       "    }\n",
       "\n",
       "    .dataframe tbody tr th {\n",
       "        vertical-align: top;\n",
       "    }\n",
       "\n",
       "    .dataframe thead th {\n",
       "        text-align: right;\n",
       "    }\n",
       "</style>\n",
       "<table border=\"1\" class=\"dataframe\">\n",
       "  <thead>\n",
       "    <tr style=\"text-align: right;\">\n",
       "      <th></th>\n",
       "      <th>url</th>\n",
       "      <th>label</th>\n",
       "    </tr>\n",
       "  </thead>\n",
       "  <tbody>\n",
       "    <tr>\n",
       "      <th>0</th>\n",
       "      <td>nobell.it/70ffb52d079109dca5664cce6f317373782/...</td>\n",
       "      <td>1</td>\n",
       "    </tr>\n",
       "    <tr>\n",
       "      <th>1</th>\n",
       "      <td>www.dghjdgf.com/paypal.co.uk/cycgi-bin/webscrc...</td>\n",
       "      <td>1</td>\n",
       "    </tr>\n",
       "    <tr>\n",
       "      <th>2</th>\n",
       "      <td>serviciosbys.com/paypal.cgi.bin.get-into.herf....</td>\n",
       "      <td>1</td>\n",
       "    </tr>\n",
       "    <tr>\n",
       "      <th>3</th>\n",
       "      <td>mail.printakid.com/www.online.americanexpress....</td>\n",
       "      <td>1</td>\n",
       "    </tr>\n",
       "    <tr>\n",
       "      <th>4</th>\n",
       "      <td>thewhiskeydregs.com/wp-content/themes/widescre...</td>\n",
       "      <td>1</td>\n",
       "    </tr>\n",
       "  </tbody>\n",
       "</table>\n",
       "</div>"
      ],
      "text/plain": [
       "                                                 url  label\n",
       "0  nobell.it/70ffb52d079109dca5664cce6f317373782/...      1\n",
       "1  www.dghjdgf.com/paypal.co.uk/cycgi-bin/webscrc...      1\n",
       "2  serviciosbys.com/paypal.cgi.bin.get-into.herf....      1\n",
       "3  mail.printakid.com/www.online.americanexpress....      1\n",
       "4  thewhiskeydregs.com/wp-content/themes/widescre...      1"
      ]
     },
     "execution_count": 25,
     "metadata": {},
     "output_type": "execute_result"
    }
   ],
   "source": [
    "# Load the PhishStorm dataset\n",
    "\n",
    "df_storm = load_phishing_data(\n",
    "    data_dir='../data',\n",
    "    filename='urlset.csv', \n",
    "    url_col='domain',        \n",
    "    label_col='label'     \n",
    ")\n",
    "\n",
    "# Quick preview\n",
    "df_storm.head()"
   ]
  },
  {
   "cell_type": "code",
   "execution_count": 26,
   "id": "9f42f3f6",
   "metadata": {},
   "outputs": [
    {
     "data": {
      "text/plain": [
       "(95913, 2)"
      ]
     },
     "execution_count": 26,
     "metadata": {},
     "output_type": "execute_result"
    }
   ],
   "source": [
    "df_storm.shape"
   ]
  },
  {
   "cell_type": "code",
   "execution_count": 27,
   "id": "3f37d1e1",
   "metadata": {},
   "outputs": [
    {
     "data": {
      "text/html": [
       "<div>\n",
       "<style scoped>\n",
       "    .dataframe tbody tr th:only-of-type {\n",
       "        vertical-align: middle;\n",
       "    }\n",
       "\n",
       "    .dataframe tbody tr th {\n",
       "        vertical-align: top;\n",
       "    }\n",
       "\n",
       "    .dataframe thead th {\n",
       "        text-align: right;\n",
       "    }\n",
       "</style>\n",
       "<table border=\"1\" class=\"dataframe\">\n",
       "  <thead>\n",
       "    <tr style=\"text-align: right;\">\n",
       "      <th></th>\n",
       "      <th>url</th>\n",
       "      <th>label</th>\n",
       "    </tr>\n",
       "  </thead>\n",
       "  <tbody>\n",
       "    <tr>\n",
       "      <th>0</th>\n",
       "      <td>http://allegrolokalnie.pl-37968.cfd</td>\n",
       "      <td>1</td>\n",
       "    </tr>\n",
       "    <tr>\n",
       "      <th>1</th>\n",
       "      <td>https://japan-aotucheck.index-sign13.ftzldk.to...</td>\n",
       "      <td>1</td>\n",
       "    </tr>\n",
       "    <tr>\n",
       "      <th>2</th>\n",
       "      <td>https://allegrolokalnie.kategorie7451825902527...</td>\n",
       "      <td>1</td>\n",
       "    </tr>\n",
       "    <tr>\n",
       "      <th>3</th>\n",
       "      <td>https://clinkft.wixsite.com/my-site-1</td>\n",
       "      <td>1</td>\n",
       "    </tr>\n",
       "    <tr>\n",
       "      <th>4</th>\n",
       "      <td>https://2024.amda.ug/plugins/content/</td>\n",
       "      <td>1</td>\n",
       "    </tr>\n",
       "  </tbody>\n",
       "</table>\n",
       "</div>"
      ],
      "text/plain": [
       "                                                 url  label\n",
       "0                http://allegrolokalnie.pl-37968.cfd      1\n",
       "1  https://japan-aotucheck.index-sign13.ftzldk.to...      1\n",
       "2  https://allegrolokalnie.kategorie7451825902527...      1\n",
       "3              https://clinkft.wixsite.com/my-site-1      1\n",
       "4              https://2024.amda.ug/plugins/content/      1"
      ]
     },
     "execution_count": 27,
     "metadata": {},
     "output_type": "execute_result"
    }
   ],
   "source": [
    "# Load the PhishTank dataset\n",
    "\n",
    "df_tank = load_phishing_data(\n",
    "    data_dir='../data',\n",
    "    filename='verified_online.csv', \n",
    "    url_col='url',        \n",
    "    label_col='verified'     \n",
    ")\n",
    "\n",
    "# Quick preview\n",
    "df_tank.head()"
   ]
  },
  {
   "cell_type": "code",
   "execution_count": 28,
   "id": "d3eb7d76",
   "metadata": {},
   "outputs": [
    {
     "data": {
      "text/plain": [
       "(50646, 2)"
      ]
     },
     "execution_count": 28,
     "metadata": {},
     "output_type": "execute_result"
    }
   ],
   "source": [
    "df_tank.shape"
   ]
  },
  {
   "cell_type": "code",
   "execution_count": 29,
   "id": "e34776e1",
   "metadata": {},
   "outputs": [],
   "source": [
    "# Take random samples \n",
    "sample_storm = df_storm.sample(n=200, random_state=42)   # 200 rows from PhishStorm\n",
    "sample_tank  = df_tank.sample(n=200, random_state=42)    # 200 rows from PhishTank\n",
    "\n",
    "# Save samples for upload \n",
    "sample_storm.to_csv(\"../data/sample_phishstorm.csv\", index=False)\n",
    "sample_tank.to_csv(\"../data/sample_phishtank.csv\", index=False)"
   ]
  },
  {
   "cell_type": "markdown",
   "id": "15d3adeb",
   "metadata": {},
   "source": [
    "Next, let's load a list of the most visited domains globally from the Alexa Top 1M dataset. This list serves as a proxy for trusted or popular websites.\n",
    "\n",
    "We'll use it later to engineer features that indicate whether a domain in a URL appears in this trusted set, which may help differentiate between phishing and legitimate URLs."
   ]
  },
  {
   "cell_type": "code",
   "execution_count": 2,
   "id": "0c1aeeae",
   "metadata": {},
   "outputs": [
    {
     "data": {
      "text/html": [
       "<div>\n",
       "<style scoped>\n",
       "    .dataframe tbody tr th:only-of-type {\n",
       "        vertical-align: middle;\n",
       "    }\n",
       "\n",
       "    .dataframe tbody tr th {\n",
       "        vertical-align: top;\n",
       "    }\n",
       "\n",
       "    .dataframe thead th {\n",
       "        text-align: right;\n",
       "    }\n",
       "</style>\n",
       "<table border=\"1\" class=\"dataframe\">\n",
       "  <thead>\n",
       "    <tr style=\"text-align: right;\">\n",
       "      <th></th>\n",
       "      <th>alexa_domain</th>\n",
       "      <th>rank</th>\n",
       "    </tr>\n",
       "  </thead>\n",
       "  <tbody>\n",
       "    <tr>\n",
       "      <th>0</th>\n",
       "      <td>google.com</td>\n",
       "      <td>1</td>\n",
       "    </tr>\n",
       "    <tr>\n",
       "      <th>1</th>\n",
       "      <td>facebook.com</td>\n",
       "      <td>2</td>\n",
       "    </tr>\n",
       "    <tr>\n",
       "      <th>2</th>\n",
       "      <td>youtube.com</td>\n",
       "      <td>3</td>\n",
       "    </tr>\n",
       "    <tr>\n",
       "      <th>3</th>\n",
       "      <td>baidu.com</td>\n",
       "      <td>4</td>\n",
       "    </tr>\n",
       "    <tr>\n",
       "      <th>4</th>\n",
       "      <td>yahoo.com</td>\n",
       "      <td>5</td>\n",
       "    </tr>\n",
       "  </tbody>\n",
       "</table>\n",
       "</div>"
      ],
      "text/plain": [
       "   alexa_domain  rank\n",
       "0    google.com     1\n",
       "1  facebook.com     2\n",
       "2   youtube.com     3\n",
       "3     baidu.com     4\n",
       "4     yahoo.com     5"
      ]
     },
     "execution_count": 2,
     "metadata": {},
     "output_type": "execute_result"
    }
   ],
   "source": [
    "# Load the Alexa domain list\n",
    "alexa_df = load_alexa_domains(\n",
    "    data_dir='../data',\n",
    "    filename='alexa_domains_1M.txt'\n",
    ")\n",
    "\n",
    "alexa_df.head()"
   ]
  },
  {
   "cell_type": "code",
   "execution_count": 3,
   "id": "7f7a9157",
   "metadata": {},
   "outputs": [
    {
     "data": {
      "text/plain": [
       "(1000000, 2)"
      ]
     },
     "execution_count": 3,
     "metadata": {},
     "output_type": "execute_result"
    }
   ],
   "source": [
    "alexa_df.shape"
   ]
  },
  {
   "cell_type": "code",
   "execution_count": 4,
   "id": "5530ef3b",
   "metadata": {},
   "outputs": [],
   "source": [
    "# Take random samples \n",
    "sample_alexa = alexa_df.sample(n=200, random_state=42)   # 200 rows from PhishStorm\n",
    "\n",
    "# Save samples for upload \n",
    "sample_alexa.to_csv(\"../data/sample_alexa.csv\", index=False)"
   ]
  },
  {
   "cell_type": "markdown",
   "id": "4360fa50",
   "metadata": {},
   "source": [
    "# PhishStorm EDA"
   ]
  },
  {
   "cell_type": "code",
   "execution_count": 30,
   "id": "bff7956e",
   "metadata": {},
   "outputs": [
    {
     "data": {
      "text/plain": [
       "((95913, 2),\n",
       "                                                  url  label\n",
       " 0  nobell.it/70ffb52d079109dca5664cce6f317373782/...      1\n",
       " 1  www.dghjdgf.com/paypal.co.uk/cycgi-bin/webscrc...      1\n",
       " 2  serviciosbys.com/paypal.cgi.bin.get-into.herf....      1\n",
       " 3  mail.printakid.com/www.online.americanexpress....      1\n",
       " 4  thewhiskeydregs.com/wp-content/themes/widescre...      1\n",
       " 5               smilesvoegol.servebbs.org/voegol.php      1\n",
       " 6  premierpaymentprocessing.com/includes/boleto-2...      1\n",
       " 7  myxxxcollection.com/v1/js/jih321/bpd.com.do/do...      1\n",
       " 8                                super1000.info/docs      1\n",
       " 9  horizonsgallery.com/js/bin/ssl1/_id/www.paypal...      1,\n",
       " label\n",
       " 0    48009\n",
       " 1    47904\n",
       " Name: count, dtype: int64,\n",
       " label\n",
       " 0    0.500547\n",
       " 1    0.499453\n",
       " Name: proportion, dtype: float64)"
      ]
     },
     "execution_count": 30,
     "metadata": {},
     "output_type": "execute_result"
    }
   ],
   "source": [
    "# Basic inspection\n",
    "shape = df_storm.shape\n",
    "head = df_storm.head(10)\n",
    "label_counts = df_storm['label'].value_counts(normalize=False)\n",
    "label_distribution = df_storm['label'].value_counts(normalize=True)\n",
    "\n",
    "shape, head, label_counts, label_distribution"
   ]
  }
 ],
 "metadata": {
  "kernelspec": {
   "display_name": "Python (.venv phishing)",
   "language": "python",
   "name": "phishing-env"
  },
  "language_info": {
   "codemirror_mode": {
    "name": "ipython",
    "version": 3
   },
   "file_extension": ".py",
   "mimetype": "text/x-python",
   "name": "python",
   "nbconvert_exporter": "python",
   "pygments_lexer": "ipython3",
   "version": "3.12.11"
  }
 },
 "nbformat": 4,
 "nbformat_minor": 5
}
