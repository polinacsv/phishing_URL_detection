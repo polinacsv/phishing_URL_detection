{
 "cells": [
  {
   "cell_type": "markdown",
   "id": "2a3dd313",
   "metadata": {},
   "source": [
    "# CNN"
   ]
  },
  {
   "cell_type": "markdown",
   "id": "679606b7",
   "metadata": {},
   "source": [
    "CNNs (Convolutional Neural Networks) are typically used for image and text data, but character-level CNNs are extremely effective for URLs because:\n",
    "\n",
    "- URLs are short sequences of characters — like text strings.\n",
    "\n",
    "- Many phishing patterns appear at character or token level, e.g.\n",
    "paypa1.com, secure-login-update.net, acc0unt-reset.cn."
   ]
  },
  {
   "cell_type": "markdown",
   "id": "92b2bf2d",
   "metadata": {},
   "source": [
    "Unlike your current features (which we handcrafted), CNNs learn features automatically:\n",
    "\n",
    "- They slide filters (small kernels) across the character sequence.\n",
    "\n",
    "- Each filter detects a pattern — e.g., numeric sequences, brand name mimicry, suspicious TLDs.\n",
    "\n",
    "- Layers of filters build up hierarchical representations (like “subdomain → domain → path”)."
   ]
  },
  {
   "cell_type": "markdown",
   "id": "fea15071",
   "metadata": {},
   "source": [
    "A simple but powerful structure would look like this:"
   ]
  },
  {
   "cell_type": "markdown",
   "id": "cf86eb17",
   "metadata": {},
   "source": [
    "- Input: \"https://paypal-login-security.com\"\n",
    "- ↓\n",
    "- Character embedding (turn each char → numeric vector)\n",
    "- ↓\n",
    "- Conv1D (filters detect local patterns like “paypal” or “login”)\n",
    "- ↓\n",
    "- ReLU activation (nonlinearity)\n",
    "- ↓\n",
    "- GlobalMaxPooling (summarizes strongest pattern activations)\n",
    "- ↓\n",
    "- Dense (fully connected layer)\n",
    "- ↓\n",
    "- Sigmoid output (probability of phishing)\n"
   ]
  },
  {
   "cell_type": "markdown",
   "id": "41bd909d",
   "metadata": {},
   "source": [
    "## Set Up"
   ]
  },
  {
   "cell_type": "code",
   "execution_count": 19,
   "id": "bffe5736",
   "metadata": {},
   "outputs": [],
   "source": [
    "import pandas as pd\n",
    "import matplotlib.pyplot as plt\n",
    "\n",
    "from tensorflow.keras.layers import TextVectorization\n",
    "import tensorflow as tf\n",
    "from tensorflow.keras.models import Sequential\n",
    "from tensorflow.keras.layers import Embedding, Conv1D, GlobalMaxPooling1D, Dense, Dropout\n",
    "\n",
    "from sklearn.model_selection import train_test_split\n"
   ]
  },
  {
   "cell_type": "markdown",
   "id": "537fa11e",
   "metadata": {},
   "source": [
    "# Load Data"
   ]
  },
  {
   "cell_type": "code",
   "execution_count": 7,
   "id": "512dc2a9",
   "metadata": {},
   "outputs": [
    {
     "name": "stdout",
     "output_type": "stream",
     "text": [
      "(95821, 2)\n"
     ]
    },
    {
     "data": {
      "text/html": [
       "<div>\n",
       "<style scoped>\n",
       "    .dataframe tbody tr th:only-of-type {\n",
       "        vertical-align: middle;\n",
       "    }\n",
       "\n",
       "    .dataframe tbody tr th {\n",
       "        vertical-align: top;\n",
       "    }\n",
       "\n",
       "    .dataframe thead th {\n",
       "        text-align: right;\n",
       "    }\n",
       "</style>\n",
       "<table border=\"1\" class=\"dataframe\">\n",
       "  <thead>\n",
       "    <tr style=\"text-align: right;\">\n",
       "      <th></th>\n",
       "      <th>url</th>\n",
       "      <th>label</th>\n",
       "    </tr>\n",
       "  </thead>\n",
       "  <tbody>\n",
       "    <tr>\n",
       "      <th>0</th>\n",
       "      <td>nobell.it/70ffb52d079109dca5664cce6f317373782/...</td>\n",
       "      <td>1</td>\n",
       "    </tr>\n",
       "    <tr>\n",
       "      <th>1</th>\n",
       "      <td>www.dghjdgf.com/paypal.co.uk/cycgi-bin/webscrc...</td>\n",
       "      <td>1</td>\n",
       "    </tr>\n",
       "    <tr>\n",
       "      <th>2</th>\n",
       "      <td>serviciosbys.com/paypal.cgi.bin.get-into.herf....</td>\n",
       "      <td>1</td>\n",
       "    </tr>\n",
       "    <tr>\n",
       "      <th>3</th>\n",
       "      <td>mail.printakid.com/www.online.americanexpress....</td>\n",
       "      <td>1</td>\n",
       "    </tr>\n",
       "    <tr>\n",
       "      <th>4</th>\n",
       "      <td>thewhiskeydregs.com/wp-content/themes/widescre...</td>\n",
       "      <td>1</td>\n",
       "    </tr>\n",
       "  </tbody>\n",
       "</table>\n",
       "</div>"
      ],
      "text/plain": [
       "                                                 url  label\n",
       "0  nobell.it/70ffb52d079109dca5664cce6f317373782/...      1\n",
       "1  www.dghjdgf.com/paypal.co.uk/cycgi-bin/webscrc...      1\n",
       "2  serviciosbys.com/paypal.cgi.bin.get-into.herf....      1\n",
       "3  mail.printakid.com/www.online.americanexpress....      1\n",
       "4  thewhiskeydregs.com/wp-content/themes/widescre...      1"
      ]
     },
     "execution_count": 7,
     "metadata": {},
     "output_type": "execute_result"
    }
   ],
   "source": [
    "# load your enriched CSV (path may differ slightly)\n",
    "df = pd.read_csv(\"../data/df_storm_feat.csv\")\n",
    "\n",
    "# keep only url + label\n",
    "df = df[['url', 'label']].dropna().reset_index(drop=True)\n",
    "print(df.shape)\n",
    "df.head()"
   ]
  },
  {
   "cell_type": "markdown",
   "id": "310067f0",
   "metadata": {},
   "source": [
    "# Clean Data"
   ]
  },
  {
   "cell_type": "code",
   "execution_count": 8,
   "id": "412f7379",
   "metadata": {},
   "outputs": [],
   "source": [
    "# basic cleaning\n",
    "df['url'] = df['url'].astype(str).str.lower().str.strip()\n",
    "\n",
    "# remove common protocol prefixes (optional)\n",
    "#df['url'] = df['url'].str.replace(r'^https?://', '', regex=True)\n",
    "\n",
    "# choose a reasonable max length (e.g., 200 chars)\n",
    "# MAX_LEN = 200\n",
    "# df['url'] = df['url'].str.slice(0, MAX_LEN)\n"
   ]
  },
  {
   "cell_type": "markdown",
   "id": "14e0f6b5",
   "metadata": {},
   "source": [
    "## Model"
   ]
  },
  {
   "cell_type": "code",
   "execution_count": 11,
   "id": "70915239",
   "metadata": {},
   "outputs": [
    {
     "name": "stdout",
     "output_type": "stream",
     "text": [
      "Vocabulary size: 168\n"
     ]
    }
   ],
   "source": [
    "# build character vocabulary from the data\n",
    "vectorizer = TextVectorization(\n",
    "    standardize=None,         # we already cleaned\n",
    "    split='character'#,        # char-level\n",
    "    #output_sequence_length=MAX_LEN\n",
    ")\n",
    "\n",
    "vectorizer.adapt(df['url'].values)\n",
    "vocab = vectorizer.get_vocabulary()\n",
    "vocab_size = len(vocab)\n",
    "print(\"Vocabulary size:\", vocab_size)"
   ]
  },
  {
   "cell_type": "code",
   "execution_count": 14,
   "id": "86e5e633",
   "metadata": {},
   "outputs": [],
   "source": [
    "\n",
    "X_train, X_test, y_train, y_test = train_test_split(\n",
    "    df['url'], df['label'], test_size=0.2, stratify=df['label'], random_state=42\n",
    ")\n",
    "\n",
    "train_ds = tf.data.Dataset.from_tensor_slices((X_train, y_train))\n",
    "test_ds  = tf.data.Dataset.from_tensor_slices((X_test,  y_test))\n",
    "\n",
    "# apply vectorizer + batching\n",
    "BATCH_SIZE = 256\n",
    "AUTOTUNE = tf.data.AUTOTUNE\n",
    "\n",
    "train_ds = (train_ds.shuffle(10000)\n",
    "            .batch(BATCH_SIZE)\n",
    "            .map(lambda x, y: (vectorizer(x), y))\n",
    "            .prefetch(AUTOTUNE))\n",
    "test_ds  = (test_ds.batch(BATCH_SIZE)\n",
    "            .map(lambda x, y: (vectorizer(x), y))\n",
    "            .prefetch(AUTOTUNE))\n"
   ]
  },
  {
   "cell_type": "code",
   "execution_count": 16,
   "id": "561437bc",
   "metadata": {},
   "outputs": [
    {
     "name": "stderr",
     "output_type": "stream",
     "text": [
      "/Users/polinacsv/Documents/github_clones/phishing_URL_detection/.venv/lib/python3.12/site-packages/keras/src/layers/core/embedding.py:97: UserWarning: Argument `input_length` is deprecated. Just remove it.\n",
      "  warnings.warn(\n"
     ]
    },
    {
     "data": {
      "text/html": [
       "<pre style=\"white-space:pre;overflow-x:auto;line-height:normal;font-family:Menlo,'DejaVu Sans Mono',consolas,'Courier New',monospace\"><span style=\"font-weight: bold\">Model: \"sequential\"</span>\n",
       "</pre>\n"
      ],
      "text/plain": [
       "\u001b[1mModel: \"sequential\"\u001b[0m\n"
      ]
     },
     "metadata": {},
     "output_type": "display_data"
    },
    {
     "data": {
      "text/html": [
       "<pre style=\"white-space:pre;overflow-x:auto;line-height:normal;font-family:Menlo,'DejaVu Sans Mono',consolas,'Courier New',monospace\">┏━━━━━━━━━━━━━━━━━━━━━━━━━━━━━━━━━┳━━━━━━━━━━━━━━━━━━━━━━━━┳━━━━━━━━━━━━━━━┓\n",
       "┃<span style=\"font-weight: bold\"> Layer (type)                    </span>┃<span style=\"font-weight: bold\"> Output Shape           </span>┃<span style=\"font-weight: bold\">       Param # </span>┃\n",
       "┡━━━━━━━━━━━━━━━━━━━━━━━━━━━━━━━━━╇━━━━━━━━━━━━━━━━━━━━━━━━╇━━━━━━━━━━━━━━━┩\n",
       "│ embedding (<span style=\"color: #0087ff; text-decoration-color: #0087ff\">Embedding</span>)           │ ?                      │   <span style=\"color: #00af00; text-decoration-color: #00af00\">0</span> (unbuilt) │\n",
       "├─────────────────────────────────┼────────────────────────┼───────────────┤\n",
       "│ conv1d (<span style=\"color: #0087ff; text-decoration-color: #0087ff\">Conv1D</span>)                 │ ?                      │   <span style=\"color: #00af00; text-decoration-color: #00af00\">0</span> (unbuilt) │\n",
       "├─────────────────────────────────┼────────────────────────┼───────────────┤\n",
       "│ global_max_pooling1d            │ ?                      │             <span style=\"color: #00af00; text-decoration-color: #00af00\">0</span> │\n",
       "│ (<span style=\"color: #0087ff; text-decoration-color: #0087ff\">GlobalMaxPooling1D</span>)            │                        │               │\n",
       "├─────────────────────────────────┼────────────────────────┼───────────────┤\n",
       "│ dense (<span style=\"color: #0087ff; text-decoration-color: #0087ff\">Dense</span>)                   │ ?                      │   <span style=\"color: #00af00; text-decoration-color: #00af00\">0</span> (unbuilt) │\n",
       "├─────────────────────────────────┼────────────────────────┼───────────────┤\n",
       "│ dropout (<span style=\"color: #0087ff; text-decoration-color: #0087ff\">Dropout</span>)               │ ?                      │             <span style=\"color: #00af00; text-decoration-color: #00af00\">0</span> │\n",
       "├─────────────────────────────────┼────────────────────────┼───────────────┤\n",
       "│ dense_1 (<span style=\"color: #0087ff; text-decoration-color: #0087ff\">Dense</span>)                 │ ?                      │   <span style=\"color: #00af00; text-decoration-color: #00af00\">0</span> (unbuilt) │\n",
       "└─────────────────────────────────┴────────────────────────┴───────────────┘\n",
       "</pre>\n"
      ],
      "text/plain": [
       "┏━━━━━━━━━━━━━━━━━━━━━━━━━━━━━━━━━┳━━━━━━━━━━━━━━━━━━━━━━━━┳━━━━━━━━━━━━━━━┓\n",
       "┃\u001b[1m \u001b[0m\u001b[1mLayer (type)                   \u001b[0m\u001b[1m \u001b[0m┃\u001b[1m \u001b[0m\u001b[1mOutput Shape          \u001b[0m\u001b[1m \u001b[0m┃\u001b[1m \u001b[0m\u001b[1m      Param #\u001b[0m\u001b[1m \u001b[0m┃\n",
       "┡━━━━━━━━━━━━━━━━━━━━━━━━━━━━━━━━━╇━━━━━━━━━━━━━━━━━━━━━━━━╇━━━━━━━━━━━━━━━┩\n",
       "│ embedding (\u001b[38;5;33mEmbedding\u001b[0m)           │ ?                      │   \u001b[38;5;34m0\u001b[0m (unbuilt) │\n",
       "├─────────────────────────────────┼────────────────────────┼───────────────┤\n",
       "│ conv1d (\u001b[38;5;33mConv1D\u001b[0m)                 │ ?                      │   \u001b[38;5;34m0\u001b[0m (unbuilt) │\n",
       "├─────────────────────────────────┼────────────────────────┼───────────────┤\n",
       "│ global_max_pooling1d            │ ?                      │             \u001b[38;5;34m0\u001b[0m │\n",
       "│ (\u001b[38;5;33mGlobalMaxPooling1D\u001b[0m)            │                        │               │\n",
       "├─────────────────────────────────┼────────────────────────┼───────────────┤\n",
       "│ dense (\u001b[38;5;33mDense\u001b[0m)                   │ ?                      │   \u001b[38;5;34m0\u001b[0m (unbuilt) │\n",
       "├─────────────────────────────────┼────────────────────────┼───────────────┤\n",
       "│ dropout (\u001b[38;5;33mDropout\u001b[0m)               │ ?                      │             \u001b[38;5;34m0\u001b[0m │\n",
       "├─────────────────────────────────┼────────────────────────┼───────────────┤\n",
       "│ dense_1 (\u001b[38;5;33mDense\u001b[0m)                 │ ?                      │   \u001b[38;5;34m0\u001b[0m (unbuilt) │\n",
       "└─────────────────────────────────┴────────────────────────┴───────────────┘\n"
      ]
     },
     "metadata": {},
     "output_type": "display_data"
    },
    {
     "data": {
      "text/html": [
       "<pre style=\"white-space:pre;overflow-x:auto;line-height:normal;font-family:Menlo,'DejaVu Sans Mono',consolas,'Courier New',monospace\"><span style=\"font-weight: bold\"> Total params: </span><span style=\"color: #00af00; text-decoration-color: #00af00\">0</span> (0.00 B)\n",
       "</pre>\n"
      ],
      "text/plain": [
       "\u001b[1m Total params: \u001b[0m\u001b[38;5;34m0\u001b[0m (0.00 B)\n"
      ]
     },
     "metadata": {},
     "output_type": "display_data"
    },
    {
     "data": {
      "text/html": [
       "<pre style=\"white-space:pre;overflow-x:auto;line-height:normal;font-family:Menlo,'DejaVu Sans Mono',consolas,'Courier New',monospace\"><span style=\"font-weight: bold\"> Trainable params: </span><span style=\"color: #00af00; text-decoration-color: #00af00\">0</span> (0.00 B)\n",
       "</pre>\n"
      ],
      "text/plain": [
       "\u001b[1m Trainable params: \u001b[0m\u001b[38;5;34m0\u001b[0m (0.00 B)\n"
      ]
     },
     "metadata": {},
     "output_type": "display_data"
    },
    {
     "data": {
      "text/html": [
       "<pre style=\"white-space:pre;overflow-x:auto;line-height:normal;font-family:Menlo,'DejaVu Sans Mono',consolas,'Courier New',monospace\"><span style=\"font-weight: bold\"> Non-trainable params: </span><span style=\"color: #00af00; text-decoration-color: #00af00\">0</span> (0.00 B)\n",
       "</pre>\n"
      ],
      "text/plain": [
       "\u001b[1m Non-trainable params: \u001b[0m\u001b[38;5;34m0\u001b[0m (0.00 B)\n"
      ]
     },
     "metadata": {},
     "output_type": "display_data"
    }
   ],
   "source": [
    "model = Sequential([\n",
    "    Embedding(input_dim=vocab_size, output_dim=128, input_length=MAX_LEN),\n",
    "    Conv1D(128, 5, activation='relu'),\n",
    "    GlobalMaxPooling1D(),\n",
    "    Dense(64, activation='relu'),\n",
    "    Dropout(0.5),\n",
    "    Dense(1, activation='sigmoid')\n",
    "])\n",
    "\n",
    "model.compile(\n",
    "    loss='binary_crossentropy',\n",
    "    optimizer='adam',\n",
    "    metrics=['accuracy', tf.keras.metrics.AUC(name='roc_auc')]\n",
    ")\n",
    "\n",
    "model.summary()\n"
   ]
  },
  {
   "cell_type": "code",
   "execution_count": 17,
   "id": "663a1d49",
   "metadata": {},
   "outputs": [
    {
     "name": "stdout",
     "output_type": "stream",
     "text": [
      "Epoch 1/5\n",
      "\u001b[1m300/300\u001b[0m \u001b[32m━━━━━━━━━━━━━━━━━━━━\u001b[0m\u001b[37m\u001b[0m \u001b[1m30s\u001b[0m 98ms/step - accuracy: 0.9069 - loss: 0.2373 - roc_auc: 0.9673 - val_accuracy: 0.9611 - val_loss: 0.1055 - val_roc_auc: 0.9928\n",
      "Epoch 2/5\n",
      "\u001b[1m300/300\u001b[0m \u001b[32m━━━━━━━━━━━━━━━━━━━━\u001b[0m\u001b[37m\u001b[0m \u001b[1m30s\u001b[0m 98ms/step - accuracy: 0.9643 - loss: 0.0996 - roc_auc: 0.9932 - val_accuracy: 0.9686 - val_loss: 0.0860 - val_roc_auc: 0.9952\n",
      "Epoch 3/5\n",
      "\u001b[1m300/300\u001b[0m \u001b[32m━━━━━━━━━━━━━━━━━━━━\u001b[0m\u001b[37m\u001b[0m \u001b[1m30s\u001b[0m 100ms/step - accuracy: 0.9722 - loss: 0.0776 - roc_auc: 0.9956 - val_accuracy: 0.9727 - val_loss: 0.0774 - val_roc_auc: 0.9959\n",
      "Epoch 4/5\n",
      "\u001b[1m300/300\u001b[0m \u001b[32m━━━━━━━━━━━━━━━━━━━━\u001b[0m\u001b[37m\u001b[0m \u001b[1m30s\u001b[0m 101ms/step - accuracy: 0.9776 - loss: 0.0628 - roc_auc: 0.9970 - val_accuracy: 0.9762 - val_loss: 0.0690 - val_roc_auc: 0.9961\n",
      "Epoch 5/5\n",
      "\u001b[1m300/300\u001b[0m \u001b[32m━━━━━━━━━━━━━━━━━━━━\u001b[0m\u001b[37m\u001b[0m \u001b[1m31s\u001b[0m 102ms/step - accuracy: 0.9807 - loss: 0.0544 - roc_auc: 0.9976 - val_accuracy: 0.9744 - val_loss: 0.0704 - val_roc_auc: 0.9964\n"
     ]
    }
   ],
   "source": [
    "history = model.fit(\n",
    "    train_ds,\n",
    "    validation_data=test_ds,\n",
    "    epochs=5,\n",
    "    verbose=1\n",
    ")\n"
   ]
  },
  {
   "cell_type": "code",
   "execution_count": 20,
   "id": "aa145ad4",
   "metadata": {},
   "outputs": [
    {
     "data": {
      "image/png": "[encoded data removed]",
      "text/plain": [
       "<Figure size 640x480 with 1 Axes>"
      ]
     },
     "metadata": {},
     "output_type": "display_data"
    },
    {
     "name": "stdout",
     "output_type": "stream",
     "text": [
      "\u001b[1m75/75\u001b[0m \u001b[32m━━━━━━━━━━━━━━━━━━━━\u001b[0m\u001b[37m\u001b[0m \u001b[1m2s\u001b[0m 27ms/step - accuracy: 0.9744 - loss: 0.0704 - roc_auc: 0.9964\n"
     ]
    },
    {
     "data": {
      "text/plain": [
       "[0.07037292420864105, 0.9744325876235962, 0.9963664412498474]"
      ]
     },
     "execution_count": 20,
     "metadata": {},
     "output_type": "execute_result"
    }
   ],
   "source": [
    "plt.plot(history.history['roc_auc'], label='train AUC')\n",
    "plt.plot(history.history['val_roc_auc'], label='val AUC')\n",
    "plt.legend(); plt.title(\"Character-Level CNN Performance\")\n",
    "plt.show()\n",
    "\n",
    "model.evaluate(test_ds)"
   ]
  },
  {
   "cell_type": "markdown",
   "id": "3bbbd7f0",
   "metadata": {},
   "source": [
    "CNN results:\n",
    "\n",
    "- Training AUC ≈ 0.996 (99.6 %)\n",
    "\n",
    "- Validation AUC ≈ 0.995 (99.5 %)\n",
    "\n",
    "- Accuracy ≈ 97 %\n"
   ]
  },
  {
   "cell_type": "code",
   "execution_count": 23,
   "id": "f40fb7eb",
   "metadata": {},
   "outputs": [],
   "source": [
    "model.save(\"../notebooks/models/url_cnn_charlevel.keras\")\n"
   ]
  },
  {
   "cell_type": "markdown",
   "id": "0bb028aa",
   "metadata": {},
   "source": [
    "## Evaluate Features"
   ]
  },
  {
   "cell_type": "markdown",
   "id": "0fcf3b87",
   "metadata": {},
   "source": [
    "1) Saliency over characters (gradient heatmap)\n",
    "\n",
    "    - Idea: how much would the prediction change if we nudged each character? Higher gradient ⇒ more important."
   ]
  },
  {
   "cell_type": "code",
   "execution_count": 28,
   "id": "4c1ccc3a",
   "metadata": {},
   "outputs": [],
   "source": [
    "# MAX_LEN = 200  # or 256\n",
    "# vectorizer = tf.keras.layers.TextVectorization(\n",
    "#     standardize=None, split=\"character\", output_sequence_length=MAX_LEN\n",
    "# )\n",
    "# vectorizer.adapt(df['url'].values)\n",
    "# vocab = vectorizer.get_vocabulary()\n",
    "\n",
    "def preprocess_url(s, max_len=200):\n",
    "    s = str(s).lower().strip()\n",
    "    s = re.sub(r'^https?://', '', s)\n",
    "    return s[:max_len]\n"
   ]
  },
  {
   "cell_type": "code",
   "execution_count": 29,
   "id": "60b7c318",
   "metadata": {},
   "outputs": [],
   "source": [
    "import numpy as np\n",
    "import tensorflow as tf\n",
    "import re\n",
    "\n",
    "embed_layer = model.layers[0]\n",
    "rest = tf.keras.Sequential(model.layers[1:])\n",
    "\n",
    "def char_saliency_pretty(url_str, max_len=200, topn=20):\n",
    "    s = preprocess_url(url_str, max_len)\n",
    "    x_ids = tf.cast(vectorizer([s]), tf.int32)            # [1, L]\n",
    "    with tf.GradientTape() as tape:\n",
    "        emb = embed_layer(x_ids)                          # [1, L, D] float32\n",
    "        tape.watch(emb)\n",
    "        y = rest(emb, training=False)                     # [1, 1]\n",
    "    grads = tape.gradient(y, emb)                         # [1, L, D]\n",
    "    token_import = tf.reduce_sum(tf.abs(grads), axis=-1)[0].numpy()  # [L]\n",
    "\n",
    "    # keep only the true characters (no right-side padding beyond len(s))\n",
    "    L_true = len(s)\n",
    "    chars = list(s)\n",
    "    imp = token_import[:L_true]\n",
    "\n",
    "    # normalize to [0,1] for readability\n",
    "    if imp.max() > 0:\n",
    "        imp = (imp - imp.min()) / (imp.max() - imp.min())\n",
    "    ranks = np.argsort(-imp)\n",
    "    top = [(int(i), chars[int(i)], float(imp[int(i)])) for i in ranks[:topn]]\n",
    "    return chars, imp, top\n"
   ]
  },
  {
   "cell_type": "code",
   "execution_count": 30,
   "id": "45a1d0ba",
   "metadata": {},
   "outputs": [
    {
     "data": {
      "text/plain": [
       "[(30, '/', 1.0),\n",
       " (31, 'r', 0.7732353806495667),\n",
       " (1, 'a', 0.7024478912353516),\n",
       " (2, 'y', 0.701621413230896),\n",
       " (7, 'l', 0.6005488634109497),\n",
       " (3, 'p', 0.5448143482208252),\n",
       " (32, 'e', 0.48304468393325806),\n",
       " (4, 'a', 0.45604774355888367),\n",
       " (9, 'g', 0.4157637655735016),\n",
       " (6, '-', 0.41189664602279663),\n",
       " (0, 'p', 0.39744797348976135),\n",
       " (8, 'o', 0.3539299964904785),\n",
       " (29, 'm', 0.33377566933631897),\n",
       " (11, 'n', 0.32395994663238525),\n",
       " (5, 'l', 0.3118274509906769)]"
      ]
     },
     "execution_count": 30,
     "metadata": {},
     "output_type": "execute_result"
    }
   ],
   "source": [
    "chars, imp, top = char_saliency_pretty(\"paypal-login-secure-update.com/reset?acc0unt=1234\")\n",
    "top[:15]  # (position, char, normalized importance)\n"
   ]
  },
  {
   "cell_type": "code",
   "execution_count": 31,
   "id": "17c12d2f",
   "metadata": {},
   "outputs": [
    {
     "data": {
      "image/png": "[encoded data removed]",
      "text/plain": [
       "<Figure size 1525x280 with 1 Axes>"
      ]
     },
     "metadata": {},
     "output_type": "display_data"
    }
   ],
   "source": [
    "\n",
    "def plot_char_heatmap(url_str):\n",
    "    chars, imp, _ = char_saliency_pretty(url_str)\n",
    "    x = np.arange(len(chars))\n",
    "    plt.figure(figsize=(min(18, 0.25*len(chars)+3), 2.8))\n",
    "    plt.bar(x, imp)\n",
    "    plt.xticks(x, chars, rotation=90)\n",
    "    plt.ylabel(\"importance\")\n",
    "    plt.title(\"Character saliency\")\n",
    "    plt.tight_layout()\n",
    "    plt.show()\n",
    "\n",
    "plot_char_heatmap(\"paypal-login-secure-update.com/reset?acc0unt=1234\")"
   ]
  },
  {
   "cell_type": "code",
   "execution_count": 32,
   "id": "be3335b1",
   "metadata": {},
   "outputs": [],
   "source": [
    "def integrated_gradients_pretty(url_str, m_steps=64):\n",
    "    s = preprocess_url(url_str, MAX_LEN)\n",
    "    x_ids = tf.cast(vectorizer([s]), tf.int32)\n",
    "    emb = embed_layer(x_ids)                              # [1, L, D]\n",
    "    baseline = tf.zeros_like(emb)\n",
    "\n",
    "    grads_acc = 0.0\n",
    "    for alpha in np.linspace(0.0, 1.0, m_steps):\n",
    "        emb_a = baseline + alpha * (emb - baseline)\n",
    "        with tf.GradientTape() as tape:\n",
    "            tape.watch(emb_a)\n",
    "            y = rest(emb_a, training=False)\n",
    "        grads = tape.gradient(y, emb_a).numpy()\n",
    "        grads_acc += grads\n",
    "\n",
    "    ig = (emb.numpy() - baseline.numpy()) * (grads_acc / m_steps)    # [1, L, D]\n",
    "    token_ig = np.abs(ig).sum(axis=-1)[0]                             # [L]\n",
    "    token_ig = token_ig[:len(s)]\n",
    "    if token_ig.max() > 0:\n",
    "        token_ig = (token_ig - token_ig.min()) / (token_ig.max() - token_ig.min())\n",
    "    return list(s), token_ig\n"
   ]
  },
  {
   "cell_type": "code",
   "execution_count": 33,
   "id": "bcbc3e26",
   "metadata": {},
   "outputs": [
    {
     "data": {
      "image/png": "[encoded data removed]",
      "text/plain": [
       "<Figure size 1525x280 with 1 Axes>"
      ]
     },
     "metadata": {},
     "output_type": "display_data"
    }
   ],
   "source": [
    "def plot_ig(url_str):\n",
    "    chars, imp = integrated_gradients_pretty(url_str)\n",
    "    x = np.arange(len(chars))\n",
    "    plt.figure(figsize=(min(18, 0.25*len(chars)+3), 2.8))\n",
    "    plt.bar(x, imp)\n",
    "    plt.xticks(x, chars, rotation=90)\n",
    "    plt.ylabel(\"IG importance\")\n",
    "    plt.title(\"Integrated Gradients\")\n",
    "    plt.tight_layout()\n",
    "    plt.show()\n",
    "\n",
    "plot_ig(\"paypal-login-secure-update.com/reset?acc0unt=1234\")\n"
   ]
  },
  {
   "cell_type": "markdown",
   "id": "84f84f6b",
   "metadata": {},
   "source": [
    "The CNN has automatically learned the same linguistic and structural cues you used in your hand-engineered features (brand conflict, keyword use, digits, deep paths).\n",
    "\n",
    "Its filters are “attending” to realistic phishing structures — not random noise.\n",
    "\n",
    "You can now trust that the model isn’t just memorizing domains; it’s actually detecting patterns of deception."
   ]
  },
  {
   "cell_type": "code",
   "execution_count": 36,
   "id": "51f326e1",
   "metadata": {},
   "outputs": [
    {
     "data": {
      "text/plain": [
       "(0.9999998211860657,\n",
       " {'drop_domain': 0.0006874799728393555,\n",
       "  'drop_path': -1.7881393432617188e-07,\n",
       "  'drop_query': -1.7881393432617188e-07})"
      ]
     },
     "execution_count": 36,
     "metadata": {},
     "output_type": "execute_result"
    }
   ],
   "source": [
    "from urllib.parse import urlparse\n",
    "\n",
    "def parts(url):\n",
    "    u = url if re.match(r'^[a-z]+://', url) else 'http://' + url\n",
    "    p = urlparse(u)\n",
    "    host = p.hostname or ''\n",
    "    path = (p.path or '')\n",
    "    query = (p.query or '')\n",
    "    return host, path, query\n",
    "\n",
    "def part_ablation(url_str):\n",
    "    s = preprocess_url(url_str, MAX_LEN)\n",
    "    host, path, query = parts(s)\n",
    "    base = float(model.predict(vectorizer([s]), verbose=0)[0,0])\n",
    "\n",
    "    ablations = {}\n",
    "    for name, new in [\n",
    "        (\"drop_domain\", ('' , path, query)),\n",
    "        (\"drop_path\",   (host, '' , query)),\n",
    "        (\"drop_query\",  (host, path, ''   )),\n",
    "    ]:\n",
    "        recon = new[0] + ('/' + new[1] if new[1] else '') + ('?' + new[2] if new[2] else '')\n",
    "        ablations[name] = base - float(model.predict(vectorizer([recon]), verbose=0)[0,0])\n",
    "    return base, ablations\n",
    "\n",
    "part_ablation(\"paypal-login-secure-update.com/reset?acc0unt=1234\")\n"
   ]
  },
  {
   "cell_type": "code",
   "execution_count": 37,
   "id": "2309d9c9",
   "metadata": {},
   "outputs": [
    {
     "ename": "KeyboardInterrupt",
     "evalue": "",
     "output_type": "error",
     "traceback": [
      "\u001b[31m---------------------------------------------------------------------------\u001b[39m",
      "\u001b[31mKeyboardInterrupt\u001b[39m                         Traceback (most recent call last)",
      "\u001b[36mCell\u001b[39m\u001b[36m \u001b[39m\u001b[32mIn[37]\u001b[39m\u001b[32m, line 23\u001b[39m\n\u001b[32m     20\u001b[39m         it += \u001b[32m1\u001b[39m\n\u001b[32m     21\u001b[39m     \u001b[38;5;28;01mreturn\u001b[39;00m steps\n\u001b[32m---> \u001b[39m\u001b[32m23\u001b[39m \u001b[43mgreedy_counterfactual\u001b[49m\u001b[43m(\u001b[49m\u001b[33;43m\"\u001b[39;49m\u001b[33;43mpaypal-login-secure-update.com/reset?acc0unt=1234\u001b[39;49m\u001b[33;43m\"\u001b[39;49m\u001b[43m)\u001b[49m[:\u001b[32m5\u001b[39m]\n",
      "\u001b[36mCell\u001b[39m\u001b[36m \u001b[39m\u001b[32mIn[37]\u001b[39m\u001b[32m, line 13\u001b[39m, in \u001b[36mgreedy_counterfactual\u001b[39m\u001b[34m(url_str, target, alphabet)\u001b[39m\n\u001b[32m     11\u001b[39m \u001b[38;5;28;01mif\u001b[39;00m c == cur[i]: \u001b[38;5;28;01mcontinue\u001b[39;00m\n\u001b[32m     12\u001b[39m cand = cur[:i] + c + cur[i+\u001b[32m1\u001b[39m:]\n\u001b[32m---> \u001b[39m\u001b[32m13\u001b[39m prob = \u001b[38;5;28mfloat\u001b[39m(\u001b[43mmodel\u001b[49m\u001b[43m.\u001b[49m\u001b[43mpredict\u001b[49m\u001b[43m(\u001b[49m\u001b[43mvectorizer\u001b[49m\u001b[43m(\u001b[49m\u001b[43m[\u001b[49m\u001b[43mcand\u001b[49m\u001b[43m]\u001b[49m\u001b[43m)\u001b[49m\u001b[43m,\u001b[49m\u001b[43m \u001b[49m\u001b[43mverbose\u001b[49m\u001b[43m=\u001b[49m\u001b[32;43m0\u001b[39;49m\u001b[43m)\u001b[49m[\u001b[32m0\u001b[39m,\u001b[32m0\u001b[39m])\n\u001b[32m     14\u001b[39m \u001b[38;5;28;01mif\u001b[39;00m prob < best[\u001b[32m0\u001b[39m]:\n\u001b[32m     15\u001b[39m     best = (prob, i, c)\n",
      "\u001b[36mFile \u001b[39m\u001b[32m~/Documents/github_clones/phishing_URL_detection/.venv/lib/python3.12/site-packages/keras/src/utils/traceback_utils.py:117\u001b[39m, in \u001b[36mfilter_traceback.<locals>.error_handler\u001b[39m\u001b[34m(*args, **kwargs)\u001b[39m\n\u001b[32m    115\u001b[39m filtered_tb = \u001b[38;5;28;01mNone\u001b[39;00m\n\u001b[32m    116\u001b[39m \u001b[38;5;28;01mtry\u001b[39;00m:\n\u001b[32m--> \u001b[39m\u001b[32m117\u001b[39m     \u001b[38;5;28;01mreturn\u001b[39;00m \u001b[43mfn\u001b[49m\u001b[43m(\u001b[49m\u001b[43m*\u001b[49m\u001b[43margs\u001b[49m\u001b[43m,\u001b[49m\u001b[43m \u001b[49m\u001b[43m*\u001b[49m\u001b[43m*\u001b[49m\u001b[43mkwargs\u001b[49m\u001b[43m)\u001b[49m\n\u001b[32m    118\u001b[39m \u001b[38;5;28;01mexcept\u001b[39;00m \u001b[38;5;167;01mException\u001b[39;00m \u001b[38;5;28;01mas\u001b[39;00m e:\n\u001b[32m    119\u001b[39m     filtered_tb = _process_traceback_frames(e.__traceback__)\n",
      "\u001b[36mFile \u001b[39m\u001b[32m~/Documents/github_clones/phishing_URL_detection/.venv/lib/python3.12/site-packages/keras/src/backend/tensorflow/trainer.py:505\u001b[39m, in \u001b[36mTensorFlowTrainer.predict\u001b[39m\u001b[34m(self, x, batch_size, verbose, steps, callbacks)\u001b[39m\n\u001b[32m    500\u001b[39m \u001b[38;5;129m@traceback_utils\u001b[39m.filter_traceback\n\u001b[32m    501\u001b[39m \u001b[38;5;28;01mdef\u001b[39;00m\u001b[38;5;250m \u001b[39m\u001b[34mpredict\u001b[39m(\n\u001b[32m    502\u001b[39m     \u001b[38;5;28mself\u001b[39m, x, batch_size=\u001b[38;5;28;01mNone\u001b[39;00m, verbose=\u001b[33m\"\u001b[39m\u001b[33mauto\u001b[39m\u001b[33m\"\u001b[39m, steps=\u001b[38;5;28;01mNone\u001b[39;00m, callbacks=\u001b[38;5;28;01mNone\u001b[39;00m\n\u001b[32m    503\u001b[39m ):\n\u001b[32m    504\u001b[39m     \u001b[38;5;66;03m# Create an iterator that yields batches of input data.\u001b[39;00m\n\u001b[32m--> \u001b[39m\u001b[32m505\u001b[39m     epoch_iterator = \u001b[43mTFEpochIterator\u001b[49m\u001b[43m(\u001b[49m\n\u001b[32m    506\u001b[39m \u001b[43m        \u001b[49m\u001b[43mx\u001b[49m\u001b[43m=\u001b[49m\u001b[43mx\u001b[49m\u001b[43m,\u001b[49m\n\u001b[32m    507\u001b[39m \u001b[43m        \u001b[49m\u001b[43mbatch_size\u001b[49m\u001b[43m=\u001b[49m\u001b[43mbatch_size\u001b[49m\u001b[43m,\u001b[49m\n\u001b[32m    508\u001b[39m \u001b[43m        \u001b[49m\u001b[43msteps_per_epoch\u001b[49m\u001b[43m=\u001b[49m\u001b[43msteps\u001b[49m\u001b[43m,\u001b[49m\n\u001b[32m    509\u001b[39m \u001b[43m        \u001b[49m\u001b[43mshuffle\u001b[49m\u001b[43m=\u001b[49m\u001b[38;5;28;43;01mFalse\u001b[39;49;00m\u001b[43m,\u001b[49m\n\u001b[32m    510\u001b[39m \u001b[43m        \u001b[49m\u001b[43mdistribute_strategy\u001b[49m\u001b[43m=\u001b[49m\u001b[38;5;28;43mself\u001b[39;49m\u001b[43m.\u001b[49m\u001b[43mdistribute_strategy\u001b[49m\u001b[43m,\u001b[49m\n\u001b[32m    511\u001b[39m \u001b[43m        \u001b[49m\u001b[43msteps_per_execution\u001b[49m\u001b[43m=\u001b[49m\u001b[38;5;28;43mself\u001b[39;49m\u001b[43m.\u001b[49m\u001b[43msteps_per_execution\u001b[49m\u001b[43m,\u001b[49m\n\u001b[32m    512\u001b[39m \u001b[43m    \u001b[49m\u001b[43m)\u001b[49m\n\u001b[32m    514\u001b[39m     \u001b[38;5;66;03m# Container that configures and calls callbacks.\u001b[39;00m\n\u001b[32m    515\u001b[39m     \u001b[38;5;28;01mif\u001b[39;00m \u001b[38;5;129;01mnot\u001b[39;00m \u001b[38;5;28misinstance\u001b[39m(callbacks, callbacks_module.CallbackList):\n",
      "\u001b[36mFile \u001b[39m\u001b[32m~/Documents/github_clones/phishing_URL_detection/.venv/lib/python3.12/site-packages/keras/src/backend/tensorflow/trainer.py:728\u001b[39m, in \u001b[36mTFEpochIterator.__init__\u001b[39m\u001b[34m(self, distribute_strategy, *args, **kwargs)\u001b[39m\n\u001b[32m    726\u001b[39m \u001b[38;5;28msuper\u001b[39m().\u001b[34m__init__\u001b[39m(*args, **kwargs)\n\u001b[32m    727\u001b[39m \u001b[38;5;28mself\u001b[39m._distribute_strategy = distribute_strategy\n\u001b[32m--> \u001b[39m\u001b[32m728\u001b[39m dataset = \u001b[38;5;28;43mself\u001b[39;49m\u001b[43m.\u001b[49m\u001b[43mdata_adapter\u001b[49m\u001b[43m.\u001b[49m\u001b[43mget_tf_dataset\u001b[49m\u001b[43m(\u001b[49m\u001b[43m)\u001b[49m\n\u001b[32m    729\u001b[39m \u001b[38;5;28;01mif\u001b[39;00m \u001b[38;5;129;01mnot\u001b[39;00m \u001b[38;5;28misinstance\u001b[39m(dataset, tf.distribute.DistributedDataset):\n\u001b[32m    730\u001b[39m     dataset = \u001b[38;5;28mself\u001b[39m._distribute_strategy.experimental_distribute_dataset(\n\u001b[32m    731\u001b[39m         dataset\n\u001b[32m    732\u001b[39m     )\n",
      "\u001b[36mFile \u001b[39m\u001b[32m~/Documents/github_clones/phishing_URL_detection/.venv/lib/python3.12/site-packages/keras/src/trainers/data_adapters/array_data_adapter.py:231\u001b[39m, in \u001b[36mArrayDataAdapter.get_tf_dataset\u001b[39m\u001b[34m(self)\u001b[39m\n\u001b[32m    228\u001b[39m     dataset = dataset.with_options(options)\n\u001b[32m    229\u001b[39m     \u001b[38;5;28;01mreturn\u001b[39;00m dataset\n\u001b[32m--> \u001b[39m\u001b[32m231\u001b[39m indices_dataset = \u001b[43mindices_dataset\u001b[49m\u001b[43m.\u001b[49m\u001b[43mflat_map\u001b[49m\u001b[43m(\u001b[49m\u001b[43mslice_batch_indices\u001b[49m\u001b[43m)\u001b[49m\n\u001b[32m    232\u001b[39m \u001b[38;5;28;01mif\u001b[39;00m shuffle == \u001b[33m\"\u001b[39m\u001b[33mbatch\u001b[39m\u001b[33m\"\u001b[39m:\n\u001b[32m    233\u001b[39m     indices_dataset = indices_dataset.map(tf.random.shuffle)\n",
      "\u001b[36mFile \u001b[39m\u001b[32m~/Documents/github_clones/phishing_URL_detection/.venv/lib/python3.12/site-packages/tensorflow/python/data/ops/dataset_ops.py:2389\u001b[39m, in \u001b[36mDatasetV2.flat_map\u001b[39m\u001b[34m(self, map_func, name)\u001b[39m\n\u001b[32m   2385\u001b[39m \u001b[38;5;66;03m# Loaded lazily due to a circular dependency (dataset_ops -> flat_map_op ->\u001b[39;00m\n\u001b[32m   2386\u001b[39m \u001b[38;5;66;03m# dataset_ops).\u001b[39;00m\n\u001b[32m   2387\u001b[39m \u001b[38;5;66;03m# pylint: disable=g-import-not-at-top,protected-access\u001b[39;00m\n\u001b[32m   2388\u001b[39m \u001b[38;5;28;01mfrom\u001b[39;00m\u001b[38;5;250m \u001b[39m\u001b[34;01mtensorflow\u001b[39;00m\u001b[34;01m.\u001b[39;00m\u001b[34;01mpython\u001b[39;00m\u001b[34;01m.\u001b[39;00m\u001b[34;01mdata\u001b[39;00m\u001b[34;01m.\u001b[39;00m\u001b[34;01mops\u001b[39;00m\u001b[38;5;250m \u001b[39m\u001b[38;5;28;01mimport\u001b[39;00m flat_map_op\n\u001b[32m-> \u001b[39m\u001b[32m2389\u001b[39m \u001b[38;5;28;01mreturn\u001b[39;00m \u001b[43mflat_map_op\u001b[49m\u001b[43m.\u001b[49m\u001b[43m_flat_map\u001b[49m\u001b[43m(\u001b[49m\u001b[38;5;28;43mself\u001b[39;49m\u001b[43m,\u001b[49m\u001b[43m \u001b[49m\u001b[43mmap_func\u001b[49m\u001b[43m,\u001b[49m\u001b[43m \u001b[49m\u001b[43mname\u001b[49m\u001b[43m=\u001b[49m\u001b[43mname\u001b[49m\u001b[43m)\u001b[49m\n",
      "\u001b[36mFile \u001b[39m\u001b[32m~/Documents/github_clones/phishing_URL_detection/.venv/lib/python3.12/site-packages/tensorflow/python/data/ops/flat_map_op.py:24\u001b[39m, in \u001b[36m_flat_map\u001b[39m\u001b[34m(input_dataset, map_func, name)\u001b[39m\n\u001b[32m     22\u001b[39m \u001b[38;5;28;01mdef\u001b[39;00m\u001b[38;5;250m \u001b[39m\u001b[34m_flat_map\u001b[39m(input_dataset, map_func, name=\u001b[38;5;28;01mNone\u001b[39;00m):  \u001b[38;5;66;03m# pylint: disable=unused-private-name\u001b[39;00m\n\u001b[32m     23\u001b[39m \u001b[38;5;250m  \u001b[39m\u001b[33;03m\"\"\"See `Dataset.flat_map()` for details.\"\"\"\u001b[39;00m\n\u001b[32m---> \u001b[39m\u001b[32m24\u001b[39m   \u001b[38;5;28;01mreturn\u001b[39;00m \u001b[43m_FlatMapDataset\u001b[49m\u001b[43m(\u001b[49m\u001b[43minput_dataset\u001b[49m\u001b[43m,\u001b[49m\u001b[43m \u001b[49m\u001b[43mmap_func\u001b[49m\u001b[43m,\u001b[49m\u001b[43m \u001b[49m\u001b[43mname\u001b[49m\u001b[43m)\u001b[49m\n",
      "\u001b[36mFile \u001b[39m\u001b[32m~/Documents/github_clones/phishing_URL_detection/.venv/lib/python3.12/site-packages/tensorflow/python/data/ops/flat_map_op.py:42\u001b[39m, in \u001b[36m_FlatMapDataset.__init__\u001b[39m\u001b[34m(self, input_dataset, map_func, name)\u001b[39m\n\u001b[32m     40\u001b[39m \u001b[38;5;28mself\u001b[39m._structure = \u001b[38;5;28mself\u001b[39m._map_func.output_structure._element_spec\n\u001b[32m     41\u001b[39m \u001b[38;5;28mself\u001b[39m._name = name\n\u001b[32m---> \u001b[39m\u001b[32m42\u001b[39m variant_tensor = \u001b[43mgen_dataset_ops\u001b[49m\u001b[43m.\u001b[49m\u001b[43mflat_map_dataset\u001b[49m\u001b[43m(\u001b[49m\n\u001b[32m     43\u001b[39m \u001b[43m    \u001b[49m\u001b[43minput_dataset\u001b[49m\u001b[43m.\u001b[49m\u001b[43m_variant_tensor\u001b[49m\u001b[43m,\u001b[49m\u001b[43m  \u001b[49m\u001b[38;5;66;43;03m# pylint: disable=protected-access\u001b[39;49;00m\n\u001b[32m     44\u001b[39m \u001b[43m    \u001b[49m\u001b[38;5;28;43mself\u001b[39;49m\u001b[43m.\u001b[49m\u001b[43m_map_func\u001b[49m\u001b[43m.\u001b[49m\u001b[43mfunction\u001b[49m\u001b[43m.\u001b[49m\u001b[43mcaptured_inputs\u001b[49m\u001b[43m,\u001b[49m\n\u001b[32m     45\u001b[39m \u001b[43m    \u001b[49m\u001b[43mf\u001b[49m\u001b[43m=\u001b[49m\u001b[38;5;28;43mself\u001b[39;49m\u001b[43m.\u001b[49m\u001b[43m_map_func\u001b[49m\u001b[43m.\u001b[49m\u001b[43mfunction\u001b[49m\u001b[43m,\u001b[49m\n\u001b[32m     46\u001b[39m \u001b[43m    \u001b[49m\u001b[43m*\u001b[49m\u001b[43m*\u001b[49m\u001b[38;5;28;43mself\u001b[39;49m\u001b[43m.\u001b[49m\u001b[43m_common_args\u001b[49m\u001b[43m)\u001b[49m\n\u001b[32m     47\u001b[39m \u001b[38;5;28msuper\u001b[39m().\u001b[34m__init__\u001b[39m(input_dataset, variant_tensor)\n",
      "\u001b[36mFile \u001b[39m\u001b[32m~/Documents/github_clones/phishing_URL_detection/.venv/lib/python3.12/site-packages/tensorflow/python/ops/gen_dataset_ops.py:2426\u001b[39m, in \u001b[36mflat_map_dataset\u001b[39m\u001b[34m(input_dataset, other_arguments, f, output_types, output_shapes, metadata, name)\u001b[39m\n\u001b[32m   2424\u001b[39m \u001b[38;5;28;01mif\u001b[39;00m tld.is_eager:\n\u001b[32m   2425\u001b[39m   \u001b[38;5;28;01mtry\u001b[39;00m:\n\u001b[32m-> \u001b[39m\u001b[32m2426\u001b[39m     _result = \u001b[43mpywrap_tfe\u001b[49m\u001b[43m.\u001b[49m\u001b[43mTFE_Py_FastPathExecute\u001b[49m\u001b[43m(\u001b[49m\n\u001b[32m   2427\u001b[39m \u001b[43m      \u001b[49m\u001b[43m_ctx\u001b[49m\u001b[43m,\u001b[49m\u001b[43m \u001b[49m\u001b[33;43m\"\u001b[39;49m\u001b[33;43mFlatMapDataset\u001b[39;49m\u001b[33;43m\"\u001b[39;49m\u001b[43m,\u001b[49m\u001b[43m \u001b[49m\u001b[43mname\u001b[49m\u001b[43m,\u001b[49m\u001b[43m \u001b[49m\u001b[43minput_dataset\u001b[49m\u001b[43m,\u001b[49m\u001b[43m \u001b[49m\u001b[43mother_arguments\u001b[49m\u001b[43m,\u001b[49m\u001b[43m \u001b[49m\u001b[33;43m\"\u001b[39;49m\u001b[33;43mf\u001b[39;49m\u001b[33;43m\"\u001b[39;49m\u001b[43m,\u001b[49m\u001b[43m \u001b[49m\u001b[43mf\u001b[49m\u001b[43m,\u001b[49m\n\u001b[32m   2428\u001b[39m \u001b[43m      \u001b[49m\u001b[33;43m\"\u001b[39;49m\u001b[33;43moutput_types\u001b[39;49m\u001b[33;43m\"\u001b[39;49m\u001b[43m,\u001b[49m\u001b[43m \u001b[49m\u001b[43moutput_types\u001b[49m\u001b[43m,\u001b[49m\u001b[43m \u001b[49m\u001b[33;43m\"\u001b[39;49m\u001b[33;43moutput_shapes\u001b[39;49m\u001b[33;43m\"\u001b[39;49m\u001b[43m,\u001b[49m\u001b[43m \u001b[49m\u001b[43moutput_shapes\u001b[49m\u001b[43m,\u001b[49m\n\u001b[32m   2429\u001b[39m \u001b[43m      \u001b[49m\u001b[33;43m\"\u001b[39;49m\u001b[33;43mmetadata\u001b[39;49m\u001b[33;43m\"\u001b[39;49m\u001b[43m,\u001b[49m\u001b[43m \u001b[49m\u001b[43mmetadata\u001b[49m\u001b[43m)\u001b[49m\n\u001b[32m   2430\u001b[39m     \u001b[38;5;28;01mreturn\u001b[39;00m _result\n\u001b[32m   2431\u001b[39m   \u001b[38;5;28;01mexcept\u001b[39;00m _core._NotOkStatusException \u001b[38;5;28;01mas\u001b[39;00m e:\n",
      "\u001b[31mKeyboardInterrupt\u001b[39m: "
     ]
    }
   ],
   "source": [
    "def greedy_counterfactual(url_str, target=0.2, alphabet=list(\"abcdefghijklmnopqrstuvwxyz0123456789-._/?:&=\")):\n",
    "    s = preprocess_url(url_str, MAX_LEN)\n",
    "    cur = s\n",
    "    p = float(model.predict(vectorizer([cur]), verbose=0)[0,0])\n",
    "    steps = []\n",
    "    it = 0\n",
    "    while p > target and it < 50:\n",
    "        best = (p, None, None)   # (prob, pos, char)\n",
    "        for i in range(len(cur)):\n",
    "            for c in alphabet:\n",
    "                if c == cur[i]: continue\n",
    "                cand = cur[:i] + c + cur[i+1:]\n",
    "                prob = float(model.predict(vectorizer([cand]), verbose=0)[0,0])\n",
    "                if prob < best[0]:\n",
    "                    best = (prob, i, c)\n",
    "        if best[1] is None: break\n",
    "        cur = cur[:best[1]] + best[2] + cur[best[1]+1:]\n",
    "        p = best[0]\n",
    "        steps.append((cur, p, best[1], best[2]))\n",
    "        it += 1\n",
    "    return steps\n",
    "\n",
    "greedy_counterfactual(\"paypal-login-secure-update.com/reset?acc0unt=1234\")[:5]\n"
   ]
  }
 ],
 "metadata": {
  "kernelspec": {
   "display_name": "Python (.venv phishing)",
   "language": "python",
   "name": "phishing-env"
  },
  "language_info": {
   "codemirror_mode": {
    "name": "ipython",
    "version": 3
   },
   "file_extension": ".py",
   "mimetype": "text/x-python",
   "name": "python",
   "nbconvert_exporter": "python",
   "pygments_lexer": "ipython3",
   "version": "3.12.11"
  }
 },
 "nbformat": 4,
 "nbformat_minor": 5
}
